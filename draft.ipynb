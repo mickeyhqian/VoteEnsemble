{
 "cells": [
  {
   "cell_type": "code",
   "execution_count": 2,
   "metadata": {},
   "outputs": [
    {
     "name": "stdout",
     "output_type": "stream",
     "text": [
      "Intel MKL WARNING: Support of Intel(R) Streaming SIMD Extensions 4.2 (Intel(R) SSE4.2) enabled only processors has been deprecated. Intel oneAPI Math Kernel Library 2025.0 will require Intel(R) Advanced Vector Extensions (Intel(R) AVX) instructions.\n",
      "Intel MKL WARNING: Support of Intel(R) Streaming SIMD Extensions 4.2 (Intel(R) SSE4.2) enabled only processors has been deprecated. Intel oneAPI Math Kernel Library 2025.0 will require Intel(R) Advanced Vector Extensions (Intel(R) AVX) instructions.\n"
     ]
    }
   ],
   "source": [
    "import numpy as np\n",
    "b = np.random.uniform(2, 3, 1)[0]"
   ]
  },
  {
   "cell_type": "code",
   "execution_count": 3,
   "metadata": {},
   "outputs": [
    {
     "data": {
      "text/plain": [
       "2.5411578233806655"
      ]
     },
     "execution_count": 3,
     "metadata": {},
     "output_type": "execute_result"
    }
   ],
   "source": [
    "b"
   ]
  },
  {
   "cell_type": "code",
   "execution_count": 5,
   "metadata": {},
   "outputs": [
    {
     "data": {
      "text/plain": [
       "2.6208923041817282"
      ]
     },
     "execution_count": 5,
     "metadata": {},
     "output_type": "execute_result"
    }
   ],
   "source": [
    "np.random.uniform(2, 3)"
   ]
  },
  {
   "cell_type": "code",
   "execution_count": 16,
   "metadata": {},
   "outputs": [],
   "source": [
    "def sample_func(distribution_name, **dist_params):\n",
    "   if distribution_name == \"sym_pareto\":\n",
    "      a = dist_params.get(\"a\", 1)\n",
    "      samples = np.random.pareto(a, dist_params[\"size\"])\n",
    "      samples_copy = np.random.pareto(a, dist_params[\"size\"])\n",
    "      return samples - samples_copy + a\n",
    "         \n",
    "   if hasattr(np.random, distribution_name):\n",
    "      dist_func = getattr(np.random, distribution_name)\n",
    "      samples = dist_func(**dist_params)\n",
    "      return samples + 1 if distribution_name == \"pareto\" else samples\n",
    "   else:\n",
    "      raise ValueError(f\"Unsupported distribution: {distribution_name}\")"
   ]
  },
  {
   "cell_type": "code",
   "execution_count": 18,
   "metadata": {},
   "outputs": [
    {
     "data": {
      "text/plain": [
       "array([ 1.25189286,  1.15764594,  1.23839497,  0.13499405,  0.43333659,\n",
       "        1.24783733,  0.82678368, 10.56075104,  0.11385448,  3.08372245])"
      ]
     },
     "execution_count": 18,
     "metadata": {},
     "output_type": "execute_result"
    }
   ],
   "source": [
    "np.random.pareto(1,10)"
   ]
  },
  {
   "cell_type": "code",
   "execution_count": 8,
   "metadata": {},
   "outputs": [],
   "source": [
    "a_ls = np.random.uniform(2, 3, 10)"
   ]
  },
  {
   "cell_type": "code",
   "execution_count": 10,
   "metadata": {},
   "outputs": [
    {
     "data": {
      "text/plain": [
       "array([2.85511347, 2.19490564, 2.67818756, 2.05842771, 2.26915497,\n",
       "       2.45504714, 2.84445579, 2.83178637, 2.99917666, 2.48506655])"
      ]
     },
     "execution_count": 10,
     "metadata": {},
     "output_type": "execute_result"
    }
   ],
   "source": [
    "a_ls"
   ]
  },
  {
   "cell_type": "code",
   "execution_count": 17,
   "metadata": {},
   "outputs": [
    {
     "ename": "KeyError",
     "evalue": "-1",
     "output_type": "error",
     "traceback": [
      "\u001b[0;31m---------------------------------------------------------------------------\u001b[0m",
      "\u001b[0;31mKeyError\u001b[0m                                  Traceback (most recent call last)",
      "Cell \u001b[0;32mIn[17], line 4\u001b[0m\n\u001b[1;32m      1\u001b[0m arrays_list \u001b[38;5;241m=\u001b[39m []\n\u001b[1;32m      3\u001b[0m \u001b[38;5;28;01mfor\u001b[39;00m i \u001b[38;5;129;01min\u001b[39;00m \u001b[38;5;28mrange\u001b[39m(\u001b[38;5;28mlen\u001b[39m(a_ls)):\n\u001b[0;32m----> 4\u001b[0m     arrays_list\u001b[38;5;241m.\u001b[39mappend(\u001b[43msample_func\u001b[49m\u001b[43m(\u001b[49m\u001b[38;5;124;43m\"\u001b[39;49m\u001b[38;5;124;43mpareto\u001b[39;49m\u001b[38;5;124;43m\"\u001b[39;49m\u001b[43m,\u001b[49m\u001b[43m \u001b[49m\u001b[43msize\u001b[49m\u001b[38;5;241;43m=\u001b[39;49m\u001b[38;5;241;43m2\u001b[39;49m\u001b[43m,\u001b[49m\u001b[43m \u001b[49m\u001b[43ma\u001b[49m\u001b[38;5;241;43m=\u001b[39;49m\u001b[43ma_ls\u001b[49m\u001b[43m[\u001b[49m\u001b[43mi\u001b[49m\u001b[43m]\u001b[49m\u001b[43m)\u001b[49m)\n\u001b[1;32m      5\u001b[0m     sample_n \u001b[38;5;241m=\u001b[39m np\u001b[38;5;241m.\u001b[39mvstack(arrays_list)\u001b[38;5;241m.\u001b[39mT\n",
      "Cell \u001b[0;32mIn[16], line 5\u001b[0m, in \u001b[0;36msample_func\u001b[0;34m(distribution_name, **dist_params)\u001b[0m\n\u001b[1;32m      3\u001b[0m    dist_func \u001b[38;5;241m=\u001b[39m \u001b[38;5;28mgetattr\u001b[39m(np\u001b[38;5;241m.\u001b[39mrandom, distribution_name)\n\u001b[1;32m      4\u001b[0m    samples \u001b[38;5;241m=\u001b[39m dist_func(\u001b[38;5;241m*\u001b[39m\u001b[38;5;241m*\u001b[39mdist_params)\n\u001b[0;32m----> 5\u001b[0m    \u001b[38;5;28mprint\u001b[39m(\u001b[38;5;241m*\u001b[39m\u001b[38;5;241m*\u001b[39m\u001b[43mdist_params\u001b[49m\u001b[43m[\u001b[49m\u001b[38;5;241;43m-\u001b[39;49m\u001b[38;5;241;43m1\u001b[39;49m\u001b[43m]\u001b[49m)\n\u001b[1;32m      6\u001b[0m    \u001b[38;5;28;01mreturn\u001b[39;00m samples \u001b[38;5;241m+\u001b[39m \u001b[38;5;241m1\u001b[39m \u001b[38;5;28;01mif\u001b[39;00m distribution_name \u001b[38;5;241m==\u001b[39m \u001b[38;5;124m\"\u001b[39m\u001b[38;5;124mpareto\u001b[39m\u001b[38;5;124m\"\u001b[39m \u001b[38;5;28;01melse\u001b[39;00m samples\n\u001b[1;32m      7\u001b[0m \u001b[38;5;28;01melse\u001b[39;00m:\n",
      "\u001b[0;31mKeyError\u001b[0m: -1"
     ]
    }
   ],
   "source": [
    "arrays_list = []\n",
    "\n",
    "for i in range(len(a_ls)):\n",
    "    arrays_list.append(sample_func(\"pareto\", size=2, a=a_ls[i]))\n",
    "    sample_n = np.vstack(arrays_list).T"
   ]
  },
  {
   "cell_type": "code",
   "execution_count": 15,
   "metadata": {},
   "outputs": [
    {
     "data": {
      "text/plain": [
       "array([[1.70090754, 2.18842562, 1.15733738, 1.51778965, 3.12520737,\n",
       "        1.64968622, 1.17465221, 1.02896779, 1.01951291, 1.42872415],\n",
       "       [1.59016605, 1.23117695, 1.92257239, 1.95430137, 1.22888732,\n",
       "        1.35207172, 1.15547971, 1.11209308, 1.04731955, 1.05301194]])"
      ]
     },
     "execution_count": 15,
     "metadata": {},
     "output_type": "execute_result"
    }
   ],
   "source": [
    "sample_n"
   ]
  },
  {
   "cell_type": "code",
   "execution_count": null,
   "metadata": {},
   "outputs": [],
   "source": []
  }
 ],
 "metadata": {
  "kernelspec": {
   "display_name": "vm",
   "language": "python",
   "name": "python3"
  },
  "language_info": {
   "codemirror_mode": {
    "name": "ipython",
    "version": 3
   },
   "file_extension": ".py",
   "mimetype": "text/x-python",
   "name": "python",
   "nbconvert_exporter": "python",
   "pygments_lexer": "ipython3",
   "version": "3.9.18"
  }
 },
 "nbformat": 4,
 "nbformat_minor": 2
}
