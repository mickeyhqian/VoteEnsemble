{
 "cells": [
  {
   "cell_type": "code",
   "execution_count": 1,
   "metadata": {},
   "outputs": [],
   "source": [
    "import numpy as np\n",
    "import json\n",
    "with open(\"_LASSO_beta_dict.json\", \"r\") as f:\n",
    "    beta_dict_json = json.load(f)\n",
    "beta_dict = {}\n",
    "for key, value in beta_dict_json.items():\n",
    "    beta_dict[eval(key)] = np.array(value)"
   ]
  },
  {
   "cell_type": "code",
   "execution_count": 3,
   "metadata": {},
   "outputs": [
    {
     "name": "stdout",
     "output_type": "stream",
     "text": [
      "1811\n",
      "1895\n",
      "1944\n",
      "1938\n",
      "1971\n",
      "1977\n",
      "1989\n",
      "1985\n",
      "1997\n",
      "1994\n"
     ]
    }
   ],
   "source": [
    "for key, value in beta_dict.items():\n",
    "    print(sum(value == 0))"
   ]
  },
  {
   "cell_type": "code",
   "execution_count": null,
   "metadata": {},
   "outputs": [],
   "source": []
  }
 ],
 "metadata": {
  "kernelspec": {
   "display_name": "vm",
   "language": "python",
   "name": "python3"
  },
  "language_info": {
   "codemirror_mode": {
    "name": "ipython",
    "version": 3
   },
   "file_extension": ".py",
   "mimetype": "text/x-python",
   "name": "python",
   "nbconvert_exporter": "python",
   "pygments_lexer": "ipython3",
   "version": "3.9.19"
  }
 },
 "nbformat": 4,
 "nbformat_minor": 2
}
