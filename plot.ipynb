{
 "cells": [
  {
   "cell_type": "code",
   "execution_count": 3,
   "metadata": {},
   "outputs": [
    {
     "data": {
      "text/plain": [
       "<contextlib.ExitStack at 0x7f28c8758090>"
      ]
     },
     "execution_count": 3,
     "metadata": {},
     "output_type": "execute_result"
    }
   ],
   "source": [
    "%matplotlib widget\n",
    "import matplotlib.pyplot as plt\n",
    "import pickle\n",
    "import numpy as np\n",
    "import os\n",
    "from ExpPipeline import loadResults, plotAvgWithError, plotCDF\n",
    "plt.ioff()"
   ]
  },
  {
   "cell_type": "code",
   "execution_count": 4,
   "metadata": {},
   "outputs": [],
   "source": [
    "def plotSyntheticExp(expDir: str):\n",
    "    expName = os.path.basename(expDir)\n",
    "    resultPath = os.path.join(expDir, \"evalResults.pkl\")\n",
    "    (\n",
    "        baseObjList, \n",
    "        MoVEObjList, \n",
    "        ROVEObjList, \n",
    "        ROVEsObjList, \n",
    "        baseObjAvg, \n",
    "        MoVEObjAvg, \n",
    "        ROVEObjAvg, \n",
    "        ROVEsObjAvg,\n",
    "        sampleSizeList, \n",
    "        kList, \n",
    "        BList, \n",
    "        k12List, \n",
    "        B12List, \n",
    "        numReplicates,\n",
    "    ) = loadResults(resultPath)\n",
    "    baggingObjList = []\n",
    "    \n",
    "    # if expDir.endswith(\"NN_d30_l4_ES_WB\"):\n",
    "    if False:\n",
    "        fileList = [\n",
    "            \"1024_2048.pkl\",\n",
    "            \"4096_8192.pkl\",\n",
    "            \"16384_32768.pkl\",\n",
    "            \"65536.pkl\",\n",
    "        ]\n",
    "        data = {}\n",
    "        for file in fileList:\n",
    "            with open(os.path.join(expDir, file), \"rb\") as f:\n",
    "                data.update(pickle.load(f))\n",
    "        \n",
    "        for size in sorted(data):\n",
    "            valueDict = data[size]\n",
    "            baggingObjList.append([valueDict[idx] for idx in sorted(valueDict)])\n",
    "\n",
    "    plotAvgWithError(\n",
    "        baseObjList,\n",
    "        [entry[0][0] if len(entry) > 0 and len(entry[0]) > 0 else [] for entry in MoVEObjList],\n",
    "        [entry[0][0] if len(entry) > 0 and len(entry[0]) > 0 else [] for entry in ROVEObjList],\n",
    "        [entry[0][0] if len(entry) > 0 and len(entry[0]) > 0 else [] for entry in ROVEsObjList],\n",
    "        baggingObjList,\n",
    "        numReplicates,\n",
    "        0.95,\n",
    "        sampleSizeList,\n",
    "        os.path.join(expDir, f\"{expName}_plots/{expName}_avg.png\"),\n",
    "        yLogScale=False\n",
    "    )\n",
    "    plotAvgWithError(\n",
    "        baseObjList,\n",
    "        [entry[0][0] if len(entry) > 0 and len(entry[0]) > 0 else [] for entry in MoVEObjList],\n",
    "        [entry[0][0] if len(entry) > 0 and len(entry[0]) > 0 else [] for entry in ROVEObjList],\n",
    "        [entry[0][0] if len(entry) > 0 and len(entry[0]) > 0 else [] for entry in ROVEsObjList],\n",
    "        baggingObjList,\n",
    "        numReplicates,\n",
    "        0.95,\n",
    "        sampleSizeList,\n",
    "        os.path.join(expDir, f\"{expName}_plots/{expName}_avg_ylog.png\"),\n",
    "        yLogScale=True\n",
    "    )\n",
    "\n",
    "    # if expDir.endswith(\"NN_d30_l4_ES_WB\"):\n",
    "    for i in range(len(sampleSizeList)):\n",
    "        plotCDF(\n",
    "            baseObjList[i],\n",
    "            MoVEObjList[i][0][0] if len(MoVEObjList[i]) > 0 and len(MoVEObjList[i][0]) > 0 else [],\n",
    "            ROVEObjList[i][0][0] if len(ROVEObjList[i]) > 0 and len(ROVEObjList[i][0]) > 0 else [],\n",
    "            ROVEsObjList[i][0][0] if len(ROVEsObjList[i]) > 0 and len(ROVEsObjList[i][0]) > 0 else [],\n",
    "            baggingObjList[i] if len(baggingObjList) > 0 else [],\n",
    "            os.path.join(expDir, f\"{expName}_plots/{expName}_cdf_{int(np.log2(sampleSizeList[i]))}.png\"),\n",
    "            xLogScale = False,\n",
    "            yLogScale = True\n",
    "        )\n",
    "        plotCDF(\n",
    "            baseObjList[i],\n",
    "            MoVEObjList[i][0][0] if len(MoVEObjList[i]) > 0 and len(MoVEObjList[i][0]) > 0 else [],\n",
    "            ROVEObjList[i][0][0] if len(ROVEObjList[i]) > 0 and len(ROVEObjList[i][0]) > 0 else [],\n",
    "            ROVEsObjList[i][0][0] if len(ROVEsObjList[i]) > 0 and len(ROVEsObjList[i][0]) > 0 else [],\n",
    "            baggingObjList[i] if len(baggingObjList) > 0 else [],\n",
    "            os.path.join(expDir, f\"{expName}_plots/{expName}_cdf_{int(np.log2(sampleSizeList[i]))}_xlog.png\"),\n",
    "            xLogScale = True,\n",
    "            yLogScale = True\n",
    "        )"
   ]
  },
  {
   "cell_type": "code",
   "execution_count": 5,
   "metadata": {},
   "outputs": [],
   "source": [
    "def plotRealExp(expDir: str):\n",
    "    expName = os.path.basename(expDir)\n",
    "    resultPath = os.path.join(expDir, \"evalResults.pkl\")\n",
    "    (\n",
    "        baseObjList, \n",
    "        MoVEObjList, \n",
    "        ROVEObjList, \n",
    "        ROVEsObjList, \n",
    "        baseObjAvg, \n",
    "        MoVEObjAvg, \n",
    "        ROVEObjAvg, \n",
    "        ROVEsObjAvg,\n",
    "        sampleSizeList, \n",
    "        kList, \n",
    "        BList, \n",
    "        k12List, \n",
    "        B12List, \n",
    "        numReplicates,\n",
    "    ) = loadResults(resultPath)\n",
    "    baggingObjList = []\n",
    "    \n",
    "    plotCDF(\n",
    "        baseObjList[0],\n",
    "        MoVEObjList[0][0][0] if len(MoVEObjList[0]) > 0 and len(MoVEObjList[0][0]) > 0 else [],\n",
    "        ROVEObjList[0][0][0] if len(ROVEObjList[0]) > 0 and len(ROVEObjList[0][0]) > 0 else [],\n",
    "        ROVEsObjList[0][0][0] if len(ROVEsObjList[0]) > 0 and len(ROVEsObjList[0][0]) > 0 else [],\n",
    "        baggingObjList[0] if len(baggingObjList) > 0 else [],\n",
    "        os.path.join(expDir, f\"{expName}_plots/{expName}_cdf.png\"),\n",
    "        xLogScale = False,\n",
    "        yLogScale = True\n",
    "    )\n",
    "    plotCDF(\n",
    "        baseObjList[0],\n",
    "        MoVEObjList[0][0][0] if len(MoVEObjList[0]) > 0 and len(MoVEObjList[0][0]) > 0 else [],\n",
    "        ROVEObjList[0][0][0] if len(ROVEObjList[0]) > 0 and len(ROVEObjList[0][0]) > 0 else [],\n",
    "        ROVEsObjList[0][0][0] if len(ROVEsObjList[0]) > 0 and len(ROVEsObjList[0][0]) > 0 else [],\n",
    "        baggingObjList[0] if len(baggingObjList) > 0 else [],\n",
    "        os.path.join(expDir, f\"{expName}_plots/{expName}_cdf_xlog.png\"),\n",
    "        xLogScale = True,\n",
    "        yLogScale = True\n",
    "    )"
   ]
  },
  {
   "cell_type": "markdown",
   "metadata": {},
   "source": [
    "# Plot Exp Results"
   ]
  },
  {
   "cell_type": "code",
   "execution_count": 125,
   "metadata": {},
   "outputs": [],
   "source": [
    "masterDir = \"/home/hqian/ResearchProjects/BaggingSAA/ExpData/NNData/RealData\"\n",
    "expDirList = os.listdir(masterDir)\n",
    "for expDir in expDirList:\n",
    "    plotRealExp(os.path.join(masterDir, expDir))"
   ]
  },
  {
   "cell_type": "code",
   "execution_count": 6,
   "metadata": {},
   "outputs": [],
   "source": [
    "masterDir = \"/home/hqian/ResearchProjects/BaggingSAA/ExpData/NNData/SyntheticData\"\n",
    "expDirList = os.listdir(masterDir)\n",
    "for expDir in expDirList:\n",
    "    plotSyntheticExp(os.path.join(masterDir, expDir))"
   ]
  },
  {
   "cell_type": "code",
   "execution_count": 7,
   "metadata": {},
   "outputs": [
    {
     "name": "stderr",
     "output_type": "stream",
     "text": [
      "/tmp/ipykernel_213129/4062217522.py:80: RuntimeWarning: More than 20 figures have been opened. Figures created through the pyplot interface (`matplotlib.pyplot.figure`) are retained until explicitly closed and may consume too much memory. (To control this warning, see the rcParam `figure.max_open_warning`). Consider using `matplotlib.pyplot.close()`.\n",
      "  fig, ax = plt.subplots()\n"
     ]
    }
   ],
   "source": [
    "masterDir = \"/home/hqian/ResearchProjects/BaggingSAA/ExpData/LRData\"\n",
    "expDirList = os.listdir(masterDir)\n",
    "for expDir in expDirList:\n",
    "    plotSyntheticExp(os.path.join(masterDir, expDir))"
   ]
  },
  {
   "cell_type": "code",
   "execution_count": 8,
   "metadata": {},
   "outputs": [],
   "source": [
    "plotSyntheticExp(\"/home/hqian/ResearchProjects/BaggingSAA/ExpData/Port_d10\")\n",
    "plotSyntheticExp(\"/home/hqian/ResearchProjects/BaggingSAA/ExpData/Port_d50\")"
   ]
  }
 ],
 "metadata": {
  "kernelspec": {
   "display_name": "base",
   "language": "python",
   "name": "python3"
  },
  "language_info": {
   "codemirror_mode": {
    "name": "ipython",
    "version": 3
   },
   "file_extension": ".py",
   "mimetype": "text/x-python",
   "name": "python",
   "nbconvert_exporter": "python",
   "pygments_lexer": "ipython3",
   "version": "3.11.7"
  }
 },
 "nbformat": 4,
 "nbformat_minor": 2
}
